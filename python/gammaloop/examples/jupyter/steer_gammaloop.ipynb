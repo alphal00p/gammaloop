{
 "cells": [
  {
   "cell_type": "markdown",
   "id": "9a70a487",
   "metadata": {},
   "source": [
    "# Steering of γLoop through the Python API\n",
    "\n",
    "This example Jupyter notebook showcases how to steer gammaLoop programmatically."
   ]
  },
  {
   "cell_type": "markdown",
   "id": "4291f2f8",
   "metadata": {},
   "source": [
    "## Importing gammaLoop"
   ]
  },
  {
   "cell_type": "code",
   "execution_count": 2,
   "id": "4fa360a3",
   "metadata": {},
   "outputs": [],
   "source": [
    "import sys\n",
    "import os\n",
    "try:\n",
    "    from gammaloop.interface.gammaloop_interface import *\n",
    "except:\n",
    "    gammaloop_path = os.path.abspath(os.path.join(os.getcwd(),os.path.pardir,os.path.pardir,os.path.pardir))\n",
    "    sys.path.insert(0, gammaloop_path)\n",
    "    try:\n",
    "        from gammaloop.interface.gammaloop_interface import *\n",
    "        print('\\n'.join([\"\",\n",
    "            \"Note: gammaLoop could not be loaded from default PYTHONPATH.\",\n",
    "            f\"Path '{gammaloop_path}' was successfully used instead.\",\"\"]))\n",
    "    except:\n",
    "        print('\\n'.join([\n",
    "            \"ERROR: Could not import Python's gammaloop module.\",\n",
    "            \"Add '<GAMMALOOP_INSTALLATION_DIRECTORY>/python' to your PYTHONPATH.\"]))"
   ]
  },
  {
   "cell_type": "markdown",
   "id": "00884022",
   "metadata": {},
   "source": [
    "Start a gammaLoop runner"
   ]
  },
  {
   "cell_type": "code",
   "execution_count": 19,
   "id": "fe493395",
   "metadata": {},
   "outputs": [
    {
     "name": "stdout",
     "output_type": "stream",
     "text": [
      "[\u001b[92m 2024-03-22 16:45:51,898 \u001b[0m] @\u001b[94mGammaLoop\u001b[0m INFO: Updating gammaLoop configuration from '/Users/vjhirsch/Documents/Work/gammaloop/python/gammaloop/data/config/gammaloop_config.yaml'.\n",
      "[\u001b[92m 2024-03-22 16:45:51,904 \u001b[0m] @\u001b[94mGammaLoop\u001b[0m INFO: Updating gammaLoop configuration from '/Users/vjhirsch/.gammaloop_config.yaml'.\n"
     ]
    }
   ],
   "source": [
    "gL_runner = GammaLoop()"
   ]
  },
  {
   "cell_type": "markdown",
   "id": "34fc4fa4",
   "metadata": {},
   "source": [
    "## Running γLoop commands\n",
    "\n",
    "With the runner now acquired we can run gammaLoop commands"
   ]
  },
  {
   "cell_type": "markdown",
   "id": "7c1914e3",
   "metadata": {},
   "source": [
    "### Either running a whole card\n",
    "\n",
    "Similarly as when doing: `gammaloop cmd.gL`"
   ]
  },
  {
   "cell_type": "code",
   "execution_count": 41,
   "id": "83276ead",
   "metadata": {
    "scrolled": true
   },
   "outputs": [
    {
     "name": "stdout",
     "output_type": "stream",
     "text": [
      "[\u001b[92m 2024-03-22 17:10:36,603 \u001b[0m] @\u001b[94mGammaLoop\u001b[0m INFO: Successfully loaded model 'sm-default'.\n",
      "[\u001b[92m 2024-03-22 17:10:36,604 \u001b[0m] @\u001b[94mGammaLoop\u001b[0m INFO: Current value of setting \u001b[92mdrawing.mode\u001b[0m: \u001b[94m'feynmp'\u001b[0m\n"
     ]
    }
   ],
   "source": [
    "gL_runner.run(CommandList.from_string(\n",
    "\"\"\"\n",
    "#You can run commands like if you were running a command card\n",
    "import_model sm --format ufo\n",
    "show_settings drawing.mode\n",
    "\"\"\"\n",
    "))"
   ]
  },
  {
   "cell_type": "markdown",
   "id": "198e653d",
   "metadata": {},
   "source": [
    "### Or running separately individual commands"
   ]
  },
  {
   "cell_type": "markdown",
   "id": "61f148f0",
   "metadata": {},
   "source": [
    "For example the help function, or others as well:"
   ]
  },
  {
   "cell_type": "code",
   "execution_count": 29,
   "id": "29aafbca",
   "metadata": {
    "scrolled": false
   },
   "outputs": [
    {
     "name": "stdout",
     "output_type": "stream",
     "text": [
      "Available commands are: \u001b[92mimport_model\u001b[0m, \u001b[92mexport_model\u001b[0m, \u001b[92mimport_graphs\u001b[0m, \u001b[92mshow_settings\u001b[0m, \u001b[92moutput\u001b[0m, \u001b[92mhelp\u001b[0m, \u001b[92mlaunch\u001b[0m, \u001b[92minfo\u001b[0m, \u001b[92mintegrate\u001b[0m, \u001b[92minspect\u001b[0m, \u001b[92mtest_ir_limits\u001b[0m, \u001b[92mtest_uv_limits\u001b[0m, \u001b[92mset\u001b[0m\n"
     ]
    }
   ],
   "source": [
    "gL_runner.do_help(\"\")"
   ]
  },
  {
   "cell_type": "code",
   "execution_count": 42,
   "id": "08baca2c",
   "metadata": {},
   "outputs": [
    {
     "name": "stdout",
     "output_type": "stream",
     "text": [
      "[\u001b[92m 2024-03-22 17:10:58,289 \u001b[0m] @\u001b[94mGammaLoop\u001b[0m INFO: Successfully loaded model 'sm-default'.\n"
     ]
    }
   ],
   "source": [
    "gL_runner.do_import_model(\"sm --format ufo\")"
   ]
  },
  {
   "cell_type": "code",
   "execution_count": 45,
   "id": "82c7d458",
   "metadata": {},
   "outputs": [
    {
     "name": "stdout",
     "output_type": "stream",
     "text": [
      "[\u001b[92m 2024-03-22 17:11:22,422 \u001b[0m] @\u001b[94mGammaLoop\u001b[0m INFO: Current value of setting \u001b[92mdrawing.mode\u001b[0m: \u001b[94m'feynmp'\u001b[0m\n"
     ]
    }
   ],
   "source": [
    "gL_runner.do_show_settings(\"drawing.mode\")"
   ]
  }
 ],
 "metadata": {
  "kernelspec": {
   "display_name": "Python 3 (ipykernel)",
   "language": "python",
   "name": "python3"
  },
  "language_info": {
   "codemirror_mode": {
    "name": "ipython",
    "version": 3
   },
   "file_extension": ".py",
   "mimetype": "text/x-python",
   "name": "python",
   "nbconvert_exporter": "python",
   "pygments_lexer": "ipython3",
   "version": "3.11.4"
  }
 },
 "nbformat": 4,
 "nbformat_minor": 5
}
